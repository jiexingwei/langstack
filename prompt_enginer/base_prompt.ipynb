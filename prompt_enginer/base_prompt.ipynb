{
 "cells": [
  {
   "metadata": {},
   "cell_type": "markdown",
   "source": [
    "# 提示词工程\n",
    "## 原则1： 编写清晰、具体的指令\n",
    "  你应该通过提供尽可能清晰和具体的指令来表达您希望模型执行的操作。这将引导模型给出正确的输出，并减少你得到无关或不正确响应的可能。编写清晰的指令不意味着简短的指令，因为在许多情况下，更长的提示实际上更清晰且提供了更多上下文，这实际上可能导致更详细更相关的输出。\n",
    "  - 策略1：使用分隔符清晰地表示输入的不同部分，分隔符可以是：```，\"\"，<>，<tag>，<\\tag>等"
   ],
   "id": "d297eeefe135a76b"
  },
  {
   "metadata": {},
   "cell_type": "markdown",
   "source": "",
   "id": "7fa3de2a6e27cbd"
  }
 ],
 "metadata": {
  "kernelspec": {
   "display_name": "Python 3",
   "language": "python",
   "name": "python3"
  },
  "language_info": {
   "codemirror_mode": {
    "name": "ipython",
    "version": 2
   },
   "file_extension": ".py",
   "mimetype": "text/x-python",
   "name": "python",
   "nbconvert_exporter": "python",
   "pygments_lexer": "ipython2",
   "version": "2.7.6"
  }
 },
 "nbformat": 4,
 "nbformat_minor": 5
}
